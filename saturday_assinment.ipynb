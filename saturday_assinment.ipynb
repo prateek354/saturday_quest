{
 "cells": [
  {
   "cell_type": "code",
   "execution_count": 2,
   "metadata": {},
   "outputs": [
    {
     "name": "stdout",
     "output_type": "stream",
     "text": [
      "Hello , welcome to my world\n"
     ]
    }
   ],
   "source": [
    "#Create a string and print it.\n",
    "string1 = (\"Hello , welcome to my world\")\n",
    "print(string1)"
   ]
  },
  {
   "cell_type": "code",
   "execution_count": 4,
   "metadata": {},
   "outputs": [
    {
     "name": "stdout",
     "output_type": "stream",
     "text": [
      "7\n"
     ]
    }
   ],
   "source": [
    "# Take a string input and print it's length.\n",
    "st =input()\n",
    "print(len(st))"
   ]
  },
  {
   "cell_type": "code",
   "execution_count": 6,
   "metadata": {},
   "outputs": [
    {
     "data": {
      "text/plain": [
       "['P', 'y', 't', 'h', 'o', 'n', ' ', 'i', 's', ' ', 'g', 'r', 'e', 'a', 't']"
      ]
     },
     "execution_count": 6,
     "metadata": {},
     "output_type": "execute_result"
    }
   ],
   "source": [
    "#Print the last word of the string Python is great using slices.\n",
    "word = (\"Python is great\")\n",
    "list(word)\n"
   ]
  },
  {
   "cell_type": "code",
   "execution_count": 12,
   "metadata": {},
   "outputs": [
    {
     "name": "stdout",
     "output_type": "stream",
     "text": [
      "Python \n",
      " Is \n",
      " Everywhere\n"
     ]
    }
   ],
   "source": [
    "print (\"Python \\n Is \\n Everywhere\")\n"
   ]
  },
  {
   "cell_type": "code",
   "execution_count": 17,
   "metadata": {},
   "outputs": [
    {
     "name": "stdout",
     "output_type": "stream",
     "text": [
      "! dlroW olleH\n"
     ]
    }
   ],
   "source": [
    "#Print the string Hello World! in reverse.\n",
    "wrd = \"Hello World !\"\n",
    "print(wrd[::-1])"
   ]
  },
  {
   "cell_type": "code",
   "execution_count": 23,
   "metadata": {},
   "outputs": [
    {
     "name": "stdout",
     "output_type": "stream",
     "text": [
      "HOW ARE YOU?\n"
     ]
    }
   ],
   "source": [
    "#Convert the string How are you? in uppercase.\n",
    "greeting = (\"how are you?\")\n",
    "print(greeting.upper())"
   ]
  },
  {
   "cell_type": "code",
   "execution_count": 24,
   "metadata": {},
   "outputs": [
    {
     "name": "stdout",
     "output_type": "stream",
     "text": [
      "how is it going?\n"
     ]
    }
   ],
   "source": [
    "#Convert the string How Is It Going? in lowercase.\n",
    "greet= (\"How is it Going?\")\n",
    "print(greet.lower())"
   ]
  },
  {
   "cell_type": "code",
   "execution_count": 37,
   "metadata": {},
   "outputs": [
    {
     "name": "stdout",
     "output_type": "stream",
     "text": [
      "['Python', 'is', 'easy', 'to', 'learn']\n"
     ]
    }
   ],
   "source": [
    "#Join the following list by spaces( ) and print the result\n",
    "words = ['Python', 'is', 'easy', 'to', 'learn']\n",
    "print(words)"
   ]
  },
  {
   "cell_type": "code",
   "execution_count": 34,
   "metadata": {},
   "outputs": [
    {
     "name": "stdout",
     "output_type": "stream",
     "text": [
      "A paragraph is a self-contained unit of discourse in writing dealing with a particular point or idea. A paragraph consists of one or more sentences. Though not required by the syntax of any language, paragraphs are usually an expected part of formal writing, used to organize longer prose.\n"
     ]
    }
   ],
   "source": [
    "#Print a multiline string using a single print\n",
    "para=(\"A paragraph is a self-contained unit of discoursein writing dealing with a particular point or idea. A paragraph consists of one or more sentences. Though not required by the syntax of any language, paragraphs are usually an expected part of formal writing, used to organize longer prose.\")\n",
    "print(para)"
   ]
  },
  {
   "cell_type": "code",
   "execution_count": 39,
   "metadata": {},
   "outputs": [
    {
     "name": "stdout",
     "output_type": "stream",
     "text": [
      "move to newline'\\n'\n"
     ]
    }
   ],
   "source": [
    "#Print this string to move to newline '\\n' is used.\n",
    "data = (\"move to newline'\\\\n'\")\n",
    "print(data)"
   ]
  },
  {
   "cell_type": "code",
   "execution_count": 40,
   "metadata": {},
   "outputs": [
    {
     "name": "stdout",
     "output_type": "stream",
     "text": [
      "i love sunday 13\n"
     ]
    }
   ],
   "source": [
    "#Print a variable with some text using a single print function, output should look like following.\n",
    "s = (\"i love sunday\")\n",
    "print(s,len(s))"
   ]
  },
  {
   "cell_type": "code",
   "execution_count": 41,
   "metadata": {},
   "outputs": [
    {
     "name": "stdout",
     "output_type": "stream",
     "text": [
      "python is great.\n"
     ]
    }
   ],
   "source": [
    "#concatenate the following strings and print the result\n",
    "s1 = 'python '\n",
    "s2 = 'is '\n",
    "s3 = 'great.'\n",
    "print(s1+s2+s3)"
   ]
  },
  {
   "cell_type": "code",
   "execution_count": 42,
   "metadata": {},
   "outputs": [
    {
     "name": "stdout",
     "output_type": "stream",
     "text": [
      "********************\n"
     ]
    }
   ],
   "source": [
    "#Print # 20 times without using a loop\n",
    "print(\"*\"*20)"
   ]
  },
  {
   "cell_type": "code",
   "execution_count": 55,
   "metadata": {},
   "outputs": [
    {
     "name": "stdout",
     "output_type": "stream",
     "text": [
      ". 0\n",
      ". 1\n",
      ". 2\n",
      ". 3\n",
      ". 4\n",
      ". 5\n",
      ". 6\n",
      ". 7\n",
      ". 8\n",
      ". 9\n",
      ". 10\n"
     ]
    }
   ],
   "source": [
    "#Print numbers from 1 to 9, each on a seperate line, followed by a dot, output should look like the following-\n",
    "for num in range(0,11):\n",
    "    print(\".\",+ num)"
   ]
  },
  {
   "cell_type": "code",
   "execution_count": 8,
   "metadata": {},
   "outputs": [
    {
     "name": "stdout",
     "output_type": "stream",
     "text": [
      "hello in chitti the robo \\n\n"
     ]
    }
   ],
   "source": [
    "#Ask user to input a sentence and print each word on a different line.\n",
    "letter = input()\n",
    "print(letter ,\"\\\\n\")"
   ]
  },
  {
   "cell_type": "code",
   "execution_count": 16,
   "metadata": {},
   "outputs": [
    {
     "ename": "SyntaxError",
     "evalue": "invalid syntax (2408574283.py, line 3)",
     "output_type": "error",
     "traceback": [
      "\u001b[1;36m  Input \u001b[1;32mIn [16]\u001b[1;36m\u001b[0m\n\u001b[1;33m    check.inp == '?':\u001b[0m\n\u001b[1;37m                     ^\u001b[0m\n\u001b[1;31mSyntaxError\u001b[0m\u001b[1;31m:\u001b[0m invalid syntax\n"
     ]
    }
   ],
   "source": [
    "#Ask user to input a string and check if the string ends with '?'\n",
    "inp = input(\"Enter the string data\")\n",
    ":\n",
    "    print(\"? found\")\n",
    "else:\n",
    "    print(\"not found\")"
   ]
  },
  {
   "cell_type": "code",
   "execution_count": 61,
   "metadata": {},
   "outputs": [
    {
     "name": "stdout",
     "output_type": "stream",
     "text": [
      "Alphabet 'E' apperaed  4 times in the entry\n"
     ]
    }
   ],
   "source": [
    "#Ask user to input a string and print how many times e appeared in the string\n",
    "story = input()\n",
    "print(\"Alphabet 'E' apperaed \",story.count('e') ,\"times in the entry\")"
   ]
  },
  {
   "cell_type": "code",
   "execution_count": 9,
   "metadata": {},
   "outputs": [
    {
     "name": "stdout",
     "output_type": "stream",
     "text": [
      "entry has no integer\n"
     ]
    }
   ],
   "source": [
    "#Check if the user input is a number.\n",
    "entry = input()\n",
    "if entry == int:\n",
    "    print(\"entry is an integer\")\n",
    "else:\n",
    "    print(\"entry has no integer\")"
   ]
  },
  {
   "cell_type": "code",
   "execution_count": 5,
   "metadata": {},
   "outputs": [
    {
     "name": "stdout",
     "output_type": "stream",
     "text": [
      "this is not a good string\n"
     ]
    }
   ],
   "source": [
    "#Remove the extra spaces in beginning and in the end of the following string-\n",
    "# text = '   this is not a good string           '\n",
    "text = '   this is not a good string           '\n",
    "new =text.strip()\n",
    "print(new)\n"
   ]
  },
  {
   "cell_type": "code",
   "execution_count": 4,
   "metadata": {},
   "outputs": [
    {
     "name": "stdout",
     "output_type": "stream",
     "text": [
      "not found\n"
     ]
    }
   ],
   "source": [
    "#Ask user to input string, print found if any of the character is upper case.\n",
    "user = input('enter the string data')\n",
    "if user.isupper():\n",
    "    print('found')\n",
    "else:\n",
    "    print(\"not found\")"
   ]
  },
  {
   "cell_type": "code",
   "execution_count": 44,
   "metadata": {},
   "outputs": [
    {
     "data": {
      "text/plain": [
       "['Joe,', 'David,', 'Mark,', 'Tom,', 'Chris,', 'Robert']"
      ]
     },
     "execution_count": 44,
     "metadata": {},
     "output_type": "execute_result"
    }
   ],
   "source": [
    "#Extract names from the following string and store them in a list.\n",
    "#names = 'Joe, David, Mark, Tom, Chris, Robert'\n",
    "name = 'Joe, David, Mark, Tom, Chris, Robert'\n",
    "name.split()"
   ]
  },
  {
   "cell_type": "code",
   "execution_count": 50,
   "metadata": {},
   "outputs": [
    {
     "ename": "TypeError",
     "evalue": "bad operand type for unary +: 'str'",
     "output_type": "error",
     "traceback": [
      "\u001b[1;31m---------------------------------------------------------------------------\u001b[0m",
      "\u001b[1;31mTypeError\u001b[0m                                 Traceback (most recent call last)",
      "\u001b[1;32mc:\\Users\\Prateek\\OneDrive\\Documents\\prateek_Python\\saturday_assinment.ipynb Cell 22'\u001b[0m in \u001b[0;36m<cell line: 4>\u001b[1;34m()\u001b[0m\n\u001b[0;32m      <a href='vscode-notebook-cell:/c%3A/Users/Prateek/OneDrive/Documents/prateek_Python/saturday_assinment.ipynb#ch0000021?line=0'>1</a>\u001b[0m \u001b[39m#In the following string, add aye in the end of every word and print the results.\u001b[39;00m\n\u001b[0;32m      <a href='vscode-notebook-cell:/c%3A/Users/Prateek/OneDrive/Documents/prateek_Python/saturday_assinment.ipynb#ch0000021?line=1'>2</a>\u001b[0m \u001b[39m#text = 'this is some text'\u001b[39;00m\n\u001b[0;32m      <a href='vscode-notebook-cell:/c%3A/Users/Prateek/OneDrive/Documents/prateek_Python/saturday_assinment.ipynb#ch0000021?line=2'>3</a>\u001b[0m text \u001b[39m=\u001b[39m \u001b[39m\"\u001b[39m\u001b[39mThis is some text\u001b[39m\u001b[39m\"\u001b[39m\n\u001b[1;32m----> <a href='vscode-notebook-cell:/c%3A/Users/Prateek/OneDrive/Documents/prateek_Python/saturday_assinment.ipynb#ch0000021?line=3'>4</a>\u001b[0m \u001b[39mprint\u001b[39m(\u001b[39m'\u001b[39m\u001b[39mthis\u001b[39m\u001b[39m'\u001b[39m,\u001b[39m+\u001b[39;49m\u001b[39m'\u001b[39;49m\u001b[39maye\u001b[39;49m\u001b[39m'\u001b[39;49m,\u001b[39m'\u001b[39m\u001b[39mis\u001b[39m\u001b[39m'\u001b[39m,\u001b[39m+\u001b[39m\u001b[39m'\u001b[39m\u001b[39maye\u001b[39m\u001b[39m'\u001b[39m,\u001b[39m'\u001b[39m\u001b[39msome\u001b[39m\u001b[39m'\u001b[39m,\u001b[39m+\u001b[39m\u001b[39m'\u001b[39m\u001b[39maye\u001b[39m\u001b[39m'\u001b[39m)\n\u001b[0;32m      <a href='vscode-notebook-cell:/c%3A/Users/Prateek/OneDrive/Documents/prateek_Python/saturday_assinment.ipynb#ch0000021?line=4'>5</a>\u001b[0m \u001b[39mprint\u001b[39m(text)\n",
      "\u001b[1;31mTypeError\u001b[0m: bad operand type for unary +: 'str'"
     ]
    }
   ],
   "source": [
    "#In the following string, add aye in the end of every word and print the results.\n",
    "#text = 'this is some text'\n",
    "text = \"This is some text\"\n",
    "t = \n",
    "print(text)"
   ]
  },
  {
   "cell_type": "code",
   "execution_count": 48,
   "metadata": {},
   "outputs": [
    {
     "name": "stdout",
     "output_type": "stream",
     "text": [
      "found\n"
     ]
    }
   ],
   "source": [
    "#ask user to enter a string and check if the string contains fyi\n",
    "a = input('enter the string data')\n",
    "if \"fyi\" in a:\n",
    "    print('found')\n",
    "else:\n",
    "    print('not found')\n"
   ]
  },
  {
   "cell_type": "code",
   "execution_count": 57,
   "metadata": {},
   "outputs": [
    {
     "name": "stdout",
     "output_type": "stream",
     "text": [
      "python\n"
     ]
    }
   ],
   "source": [
    "#Remove all the special characters and numbers from the following string\n",
    "#text = '%p34@y!*-*!t68h#&on404'\n",
    "text = '%p34@y!*-*!t68h#&on404'\n",
    "new_text = filter(str.isalpha,text)\n",
    "t1 = ''.join(new_text)\n",
    "print(t1)"
   ]
  },
  {
   "cell_type": "code",
   "execution_count": null,
   "metadata": {},
   "outputs": [],
   "source": [
    "#calculate the average word length of the following paragraph.\n",
    "#this is a paragraph which is written just for the purpose of providing content to let the average word length be calculated\n"
   ]
  }
 ],
 "metadata": {
  "interpreter": {
   "hash": "19d1d53a962d236aa061289c2ac16dc8e6d9648c89fe79f459ae9a3493bc67b4"
  },
  "kernelspec": {
   "display_name": "Python 3.9.7 ('base')",
   "language": "python",
   "name": "python3"
  },
  "language_info": {
   "codemirror_mode": {
    "name": "ipython",
    "version": 3
   },
   "file_extension": ".py",
   "mimetype": "text/x-python",
   "name": "python",
   "nbconvert_exporter": "python",
   "pygments_lexer": "ipython3",
   "version": "3.9.7"
  },
  "orig_nbformat": 4
 },
 "nbformat": 4,
 "nbformat_minor": 2
}
